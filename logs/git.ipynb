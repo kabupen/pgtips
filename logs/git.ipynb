{
 "cells": [
  {
   "cell_type": "markdown",
   "id": "229e658a-bbf2-4613-b80c-baac95a1628a",
   "metadata": {},
   "source": [
    "# Git ワークフロー\n",
    "\n",
    "git-flow, GitHub flow など git を使った開発モデルは多数あるが、最も重要なことはメンバー間で運用方法を共有しておくことである。"
   ]
  },
  {
   "cell_type": "markdown",
   "id": "1a9fd00e-a8f1-4f1e-ab81-727beadd2a80",
   "metadata": {},
   "source": [
    "## git-flow"
   ]
  },
  {
   "cell_type": "markdown",
   "id": "42601fca-88f3-4a6b-9dd6-ca4b8d59567a",
   "metadata": {},
   "source": [
    "### ブランチの種類\n",
    "\n",
    "- master : プロダクトとしてリリースするためのブランチ。リリース・タグ管理を行う\n",
    "- release : リリースに伴う作業を行うためのブランチ。\n",
    "- develop : 開発用ブランチ。常にデプロイ可能で、開発中の最新コミットを指す\n",
    "- feature : 作業用ブランチ。developから派生させて作業を行い、developへマージさせる\n",
    "- hotfix : masterブランチからリリースした後にバグが見つかり、緊急で作業する用のブランチ。masterから派生してmasterへマージする。"
   ]
  },
  {
   "cell_type": "markdown",
   "id": "935e7bfb-6147-4aa9-81c8-779438a4d641",
   "metadata": {},
   "source": [
    "## GitHub flow"
   ]
  },
  {
   "cell_type": "markdown",
   "id": "c33cae1a-0c94-4450-afc7-0f3f5947dabc",
   "metadata": {},
   "source": [
    "### ブランチの種類\n",
    "\n",
    "- master : 常にデプロイ可能\n",
    "- 作業用ブランチ : git-flow と異なり master から派生させ、適当な名前を付ける。開発が済めばmasterへマージさせる （プルリクエスト）\n",
    "    - OSS開発ではリポジトリをforkして、作業を行うことが多いと思われる\n",
    "\n",
    "\n",
    "### プルリクエスト\n",
    "\n",
    "作業を終え動作確認をしたコミットをmasterブランチへマージさせるための手続き。GitHubでは直接 `git merge ...` を実行するのではなく、\n",
    "開発元へプルリクエストを送信する。このタイミングでコードレビュー（本当にｍasterへマージしていいかの確認）などを行う。"
   ]
  },
  {
   "cell_type": "markdown",
   "id": "4e3897e1-545d-46ca-8d34-51d0d2d7ac54",
   "metadata": {},
   "source": [
    "# Git コマンド"
   ]
  },
  {
   "cell_type": "markdown",
   "id": "3a561791-c19e-4cb0-96c1-60f7ac8f4e06",
   "metadata": {},
   "source": [
    "## ワーキングツリーの確認\n",
    "\n",
    "\n",
    "### 短絡表示\n",
    "\n",
    "```shell\n",
    "$ git status -s\n",
    "## master\n",
    "M  a.txt # 1列目の M： Changes to be commited で modified\n",
    " M b.txt # 2列目の M： Changes but not updated で modified\n",
    "A  c.txt # 1列目の A： Changes to be commited で new file\n",
    "?? d.txt # Untracked file\n",
    "```\n",
    "\n",
    "\n",
    "\n",
    "```shell\n",
    "git status -sb # カレントブランチも表示する\n",
    "```"
   ]
  },
  {
   "cell_type": "markdown",
   "id": "17ed747b-ef1d-4a5d-b0e4-c26d40e5de49",
   "metadata": {},
   "source": [
    "## マージする"
   ]
  },
  {
   "cell_type": "markdown",
   "id": "13d984b1-c314-4886-a91a-8d56aae36754",
   "metadata": {},
   "source": [
    "### コミットを一つにまとめる\n",
    "\n",
    "feature-test で開発中に細々とコミットをしている場合、マージする際にそのままであればそれらのコミットが全てマージされることとなる。\n",
    "ただ `--squash` オプションを使用することで、それらのコミットを一つにまとめたコミットを作成することができる。\n",
    "\n",
    "```shell\n",
    "git merge --squash feature-test\n",
    "git commit\n",
    "```"
   ]
  },
  {
   "cell_type": "markdown",
   "id": "8fa18c6e-5927-40b6-a700-58f76a934188",
   "metadata": {},
   "source": [
    "## リベース （最新コミットに追従させる）\n",
    "\n",
    "develop ブランチで作業しているとき、master ブランチのコミットを取り込みたいとき\n",
    "\n",
    "- マージする\n",
    "- リベースする\n",
    "\n",
    "の2択が考えられる。\n",
    "\n",
    "- 1人で開発している場合にはリベースでもマージでも問題ない。\n",
    "- 複数人でコミットを行う場合や、自分の修正をメインブランチに追従する必要がある場合にはリベースを選択することが多い\n",
    "- トピックブランチをメインラインに取り込む場合には、マージを行うことが多い\n",
    "\n",
    "```shell\n",
    "git rebase master\n",
    "```\n",
    "\n",
    "master の最新コミットから無名ブランチを切り、枝別れしたさきの develop ブランチのコミットをパッチとして master に当てていく。"
   ]
  },
  {
   "cell_type": "markdown",
   "id": "da4cfa61-9471-4298-994e-c00b57381768",
   "metadata": {},
   "source": [
    "## ブランチ間のコミットを確認する \n",
    "\n",
    "```shell\n",
    "git show-branch\n",
    "```"
   ]
  },
  {
   "cell_type": "markdown",
   "id": "2fac0118-d8df-45cd-9fe2-ab09a4ed4a9e",
   "metadata": {},
   "source": [
    "## リモートリポジトリからコミットを取得する\n",
    "\n",
    "```shell\n",
    "git fetch origin master\n",
    "```"
   ]
  },
  {
   "cell_type": "markdown",
   "id": "f34ff121-4cb4-48c3-8dd3-106d71964ba3",
   "metadata": {},
   "source": [
    "## 未コミットを一時的に保存する\n",
    "\n",
    "### キューを確認する\n",
    "\n",
    "```shell\n",
    "git stash list\n",
    "```\n",
    "\n",
    "### 作業過程をキューに保存する\n",
    "\n",
    "```shell\n",
    "git stash save \n",
    "git stash save work0 # 名前をつけて保存\n",
    "```\n",
    "\n",
    "### キューから取り出す\n",
    "\n",
    "```shell\n",
    "git stash pop               # 最も新しい stash を取り出す\n",
    "git stash pop stash@{0}     # 0 番目の stash を取り出す\n",
    "git stash pop stash@{work0} # 付けた名前で指定して stash を取り出す\n",
    "```"
   ]
  }
 ],
 "metadata": {
  "kernelspec": {
   "display_name": "Python 3",
   "language": "python",
   "name": "python3"
  },
  "language_info": {
   "codemirror_mode": {
    "name": "ipython",
    "version": 3
   },
   "file_extension": ".py",
   "mimetype": "text/x-python",
   "name": "python",
   "nbconvert_exporter": "python",
   "pygments_lexer": "ipython3",
   "version": "3.7.3"
  }
 },
 "nbformat": 4,
 "nbformat_minor": 5
}
