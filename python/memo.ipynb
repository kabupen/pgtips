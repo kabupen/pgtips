{
 "cells": [
  {
   "cell_type": "markdown",
   "id": "assumed-talent",
   "metadata": {},
   "source": [
    "# 組み込み関数"
   ]
  },
  {
   "cell_type": "markdown",
   "id": "growing-alexander",
   "metadata": {},
   "source": [
    "## set, frozenset\n",
    "\n",
    "リストと同じ様に集合を表現するが\n",
    "- 重複要素を許さない\n",
    "- 順番がない\n",
    "部分が異なるものである。"
   ]
  },
  {
   "cell_type": "code",
   "execution_count": 9,
   "id": "cheap-jordan",
   "metadata": {},
   "outputs": [
    {
     "data": {
      "text/plain": [
       "set"
      ]
     },
     "execution_count": 9,
     "metadata": {},
     "output_type": "execute_result"
    }
   ],
   "source": [
    "a_set = set([1,2,3,4])\n",
    "type(a_set)"
   ]
  },
  {
   "cell_type": "code",
   "execution_count": 10,
   "id": "reported-married",
   "metadata": {},
   "outputs": [
    {
     "data": {
      "text/plain": [
       "{1, 2, 3, 4}"
      ]
     },
     "execution_count": 10,
     "metadata": {},
     "output_type": "execute_result"
    }
   ],
   "source": [
    "a_set.add(4)\n",
    "a_set"
   ]
  },
  {
   "cell_type": "markdown",
   "id": "dedicated-market",
   "metadata": {},
   "source": [
    "## vars"
   ]
  },
  {
   "cell_type": "markdown",
   "id": "future-arctic",
   "metadata": {},
   "source": [
    "# デコレーター"
   ]
  },
  {
   "cell_type": "markdown",
   "id": "adjacent-shannon",
   "metadata": {},
   "source": [
    "## @func"
   ]
  },
  {
   "cell_type": "code",
   "execution_count": 73,
   "id": "heavy-vacuum",
   "metadata": {},
   "outputs": [
    {
     "ename": "TypeError",
     "evalue": "func_1() missing 1 required positional argument: 'message'",
     "output_type": "error",
     "traceback": [
      "\u001b[0;31m---------------------------------------------------------------------------\u001b[0m",
      "\u001b[0;31mTypeError\u001b[0m                                 Traceback (most recent call last)",
      "\u001b[0;32m<ipython-input-73-84433e210e44>\u001b[0m in \u001b[0;36m<module>\u001b[0;34m\u001b[0m\n\u001b[0;32m----> 1\u001b[0;31m \u001b[0;32mclass\u001b[0m \u001b[0mClass\u001b[0m \u001b[0;34m:\u001b[0m\u001b[0;34m\u001b[0m\u001b[0;34m\u001b[0m\u001b[0m\n\u001b[0m\u001b[1;32m      2\u001b[0m     \u001b[0;32mdef\u001b[0m \u001b[0mfunc_1\u001b[0m\u001b[0;34m(\u001b[0m\u001b[0mself\u001b[0m\u001b[0;34m,\u001b[0m \u001b[0mmessage\u001b[0m\u001b[0;34m)\u001b[0m\u001b[0;34m:\u001b[0m\u001b[0;34m\u001b[0m\u001b[0;34m\u001b[0m\u001b[0m\n\u001b[1;32m      3\u001b[0m         \u001b[0mprint\u001b[0m\u001b[0;34m(\u001b[0m\u001b[0mmessage\u001b[0m\u001b[0;34m)\u001b[0m\u001b[0;34m\u001b[0m\u001b[0;34m\u001b[0m\u001b[0m\n\u001b[1;32m      4\u001b[0m         \u001b[0;32mreturn\u001b[0m\u001b[0;34m\u001b[0m\u001b[0;34m\u001b[0m\u001b[0m\n\u001b[1;32m      5\u001b[0m \u001b[0;34m\u001b[0m\u001b[0m\n",
      "\u001b[0;32m<ipython-input-73-84433e210e44>\u001b[0m in \u001b[0;36mClass\u001b[0;34m()\u001b[0m\n\u001b[1;32m      4\u001b[0m         \u001b[0;32mreturn\u001b[0m\u001b[0;34m\u001b[0m\u001b[0;34m\u001b[0m\u001b[0m\n\u001b[1;32m      5\u001b[0m \u001b[0;34m\u001b[0m\u001b[0m\n\u001b[0;32m----> 6\u001b[0;31m     \u001b[0;34m@\u001b[0m\u001b[0mfunc_1\u001b[0m\u001b[0;34m(\u001b[0m\u001b[0;34m\"test\"\u001b[0m\u001b[0;34m)\u001b[0m\u001b[0;34m\u001b[0m\u001b[0;34m\u001b[0m\u001b[0m\n\u001b[0m\u001b[1;32m      7\u001b[0m     \u001b[0;32mdef\u001b[0m \u001b[0mfunc_2\u001b[0m\u001b[0;34m(\u001b[0m\u001b[0mself\u001b[0m\u001b[0;34m)\u001b[0m\u001b[0;34m:\u001b[0m\u001b[0;34m\u001b[0m\u001b[0;34m\u001b[0m\u001b[0m\n\u001b[1;32m      8\u001b[0m         \u001b[0;32mpass\u001b[0m\u001b[0;34m\u001b[0m\u001b[0;34m\u001b[0m\u001b[0m\n",
      "\u001b[0;31mTypeError\u001b[0m: func_1() missing 1 required positional argument: 'message'"
     ]
    }
   ],
   "source": [
    "class Class : \n",
    "    def func_1(self, message):\n",
    "        print(message)\n",
    "        return\n",
    "    \n",
    "    @func_1(\"test\")\n",
    "    def func_2(self):\n",
    "        pass\n",
    "    \n",
    "c = Class()\n",
    "c.func_2()"
   ]
  },
  {
   "cell_type": "code",
   "execution_count": 72,
   "id": "textile-class",
   "metadata": {},
   "outputs": [
    {
     "name": "stdout",
     "output_type": "stream",
     "text": [
      "I am the decorator!\n"
     ]
    }
   ],
   "source": [
    "def sample_decorator(myfunc):\n",
    "    print(\"I am the decorator!\")\n",
    "    return 0 \n",
    " \n",
    "@sample_decorator\n",
    "def myfunc():\n",
    "    pass"
   ]
  },
  {
   "cell_type": "markdown",
   "id": "dependent-emphasis",
   "metadata": {},
   "source": [
    "## @classmethod\n",
    "- インスタンスを作成しなくてもアクセスできる\n",
    "- 第一引数で、そのクラスを取得できる（`self`は、その「オブジェクト」を指す）\n",
    "    - 名前は何でもよいが、慣習的に`cls`を使用すること"
   ]
  },
  {
   "cell_type": "code",
   "execution_count": 23,
   "id": "complimentary-schedule",
   "metadata": {},
   "outputs": [],
   "source": [
    "class Class :\n",
    "    \n",
    "    def __init__(self) : \n",
    "        print(self)\n",
    "    \n",
    "    @classmethod\n",
    "    def print(cls) : \n",
    "        print(cls)\n",
    "        print(\"Hello, world\")"
   ]
  },
  {
   "cell_type": "code",
   "execution_count": 24,
   "id": "serial-sitting",
   "metadata": {},
   "outputs": [
    {
     "name": "stdout",
     "output_type": "stream",
     "text": [
      "<__main__.Class object at 0x10c721b70>\n"
     ]
    }
   ],
   "source": [
    "c = Class()"
   ]
  },
  {
   "cell_type": "markdown",
   "id": "secret-suicide",
   "metadata": {},
   "source": [
    "`classmethod`は第一引数でクラスを取得できるので、（よく使用される例として）インスタンスを返す手法に用いられたりする。"
   ]
  },
  {
   "cell_type": "code",
   "execution_count": 26,
   "id": "concerned-patch",
   "metadata": {},
   "outputs": [
    {
     "name": "stdout",
     "output_type": "stream",
     "text": [
      "<class '__main__.Class'>\n",
      "Hello, world\n"
     ]
    }
   ],
   "source": [
    "Class.print()"
   ]
  },
  {
   "cell_type": "code",
   "execution_count": 29,
   "id": "confident-liquid",
   "metadata": {},
   "outputs": [
    {
     "data": {
      "text/plain": [
       "mappingproxy({'__module__': '__main__',\n",
       "              '__init__': <function __main__.Class.__init__(self)>,\n",
       "              'print': <classmethod at 0x10c721ac8>,\n",
       "              '__dict__': <attribute '__dict__' of 'Class' objects>,\n",
       "              '__weakref__': <attribute '__weakref__' of 'Class' objects>,\n",
       "              '__doc__': None})"
      ]
     },
     "execution_count": 29,
     "metadata": {},
     "output_type": "execute_result"
    }
   ],
   "source": [
    "vars(Class)"
   ]
  },
  {
   "cell_type": "code",
   "execution_count": 30,
   "id": "packed-connectivity",
   "metadata": {},
   "outputs": [
    {
     "name": "stdout",
     "output_type": "stream",
     "text": [
      "<__main__.Class object at 0x10c721b70>\n"
     ]
    }
   ],
   "source": [
    "print(c)"
   ]
  },
  {
   "cell_type": "markdown",
   "id": "resident-cattle",
   "metadata": {},
   "source": [
    "## \\_\\_str__, \\_\\_repr__\n",
    "\n",
    "オブジェクトが`print`で呼び出された時に出力する情報をコントロールすることができる。\n",
    "\n",
    "- \\__str__が定義されていると、printでこの関数が呼び出される\n",
    "- \\__repr__が定義されていると、printでこの関数が呼び出される\n",
    "- \\__str__と\\__repr__が定義されていると、\\__str__で定義されている処理が呼び出される\n",
    "\n",
    "例えば`pandas`では、\\_\\_repr__が class DataFrame に実装されており、そのため `print(df)` で整形されたテキストが出力される。"
   ]
  },
  {
   "cell_type": "code",
   "execution_count": 49,
   "id": "working-indication",
   "metadata": {},
   "outputs": [
    {
     "name": "stdout",
     "output_type": "stream",
     "text": [
      "This is __str__ test.\n",
      "This is __repr__ test.\n",
      "<__main__.C object at 0x10c6994e0>\n"
     ]
    }
   ],
   "source": [
    "class A : \n",
    "    def __str__(self):\n",
    "        return \"This is __str__ test.\"\n",
    "\n",
    "class B : \n",
    "    def __repr__(self):\n",
    "        return \"This is __repr__ test.\"\n",
    "    \n",
    "class C : \n",
    "    pass\n",
    "    \n",
    "a = A()\n",
    "b = B()\n",
    "c = C()\n",
    "\n",
    "print(str(a))\n",
    "print(str(b))\n",
    "print(str(c))"
   ]
  },
  {
   "cell_type": "code",
   "execution_count": 45,
   "id": "dominant-arnold",
   "metadata": {},
   "outputs": [
    {
     "data": {
      "text/plain": [
       "\"<class '__main__.B'>\""
      ]
     },
     "execution_count": 45,
     "metadata": {},
     "output_type": "execute_result"
    }
   ],
   "source": []
  },
  {
   "cell_type": "code",
   "execution_count": 40,
   "id": "electric-breach",
   "metadata": {},
   "outputs": [
    {
     "data": {
      "text/plain": [
       "'test test test'"
      ]
     },
     "execution_count": 40,
     "metadata": {},
     "output_type": "execute_result"
    }
   ],
   "source": [
    "str(b)"
   ]
  },
  {
   "cell_type": "code",
   "execution_count": null,
   "id": "excited-exhibit",
   "metadata": {},
   "outputs": [],
   "source": []
  }
 ],
 "metadata": {
  "kernelspec": {
   "display_name": "Python 3",
   "language": "python",
   "name": "python3"
  },
  "language_info": {
   "codemirror_mode": {
    "name": "ipython",
    "version": 3
   },
   "file_extension": ".py",
   "mimetype": "text/x-python",
   "name": "python",
   "nbconvert_exporter": "python",
   "pygments_lexer": "ipython3",
   "version": "3.7.3"
  },
  "toc": {
   "base_numbering": 1,
   "nav_menu": {},
   "number_sections": false,
   "sideBar": true,
   "skip_h1_title": false,
   "title_cell": "Table of Contents",
   "title_sidebar": "Contents",
   "toc_cell": false,
   "toc_position": {},
   "toc_section_display": true,
   "toc_window_display": true
  }
 },
 "nbformat": 4,
 "nbformat_minor": 5
}
